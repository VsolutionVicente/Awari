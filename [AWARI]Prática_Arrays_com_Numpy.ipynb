{
  "nbformat": 4,
  "nbformat_minor": 0,
  "metadata": {
    "colab": {
      "provenance": [],
      "collapsed_sections": [
        "qn1PUsM9ltpJ",
        "o4-gsGICltpN",
        "4CAwtS0-ltpR",
        "86-hOHa7ltpT",
        "7osmTUC4ltpa",
        "-fW4EXIqltpi",
        "Acw1DffHltpn",
        "uKqPxg2Zltpo",
        "XaY6oXkmltpp",
        "ESgVt5xOltpq",
        "Ox8JlBM3ltpr",
        "j7uPN16oltpv",
        "e9r6ryTrltpw",
        "SR9KYy-0ltpw",
        "bHxcxugPltpx",
        "g4aA-5mbOjXr",
        "GPSk7Q_Dltp4",
        "Me6yUU_RltqA",
        "71jViVBUltqE",
        "JTUH-vAeltqG",
        "WbBD5ixaltqH",
        "nMk4iCoKPJ9b"
      ],
      "toc_visible": true,
      "include_colab_link": true
    },
    "kernelspec": {
      "name": "python3",
      "display_name": "Python 3"
    },
    "language_info": {
      "name": "python"
    }
  },
  "cells": [
    {
      "cell_type": "markdown",
      "metadata": {
        "id": "view-in-github",
        "colab_type": "text"
      },
      "source": [
        "<a href=\"https://colab.research.google.com/github/VsolutionVicente/Awari/blob/main/%5BAWARI%5DPr%C3%A1tica_Arrays_com_Numpy.ipynb\" target=\"_parent\"><img src=\"https://colab.research.google.com/assets/colab-badge.svg\" alt=\"Open In Colab\"/></a>"
      ]
    },
    {
      "cell_type": "markdown",
      "source": [
        "![header-notebooks.png](data:image/png;base64,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)\n",
        "\n",
        "Prática da **Aula 04: Linguagem Python II**, do curso de **Data Science** da **[Awari](https://awari.com.br/)**. Para utilizá-la, vá no menu \"Arquivo\" e, em seguida, na opção \"Salvar uma cópia no Drive\". Isto criará uma cópia deste notebook em uma pasta chamada \"Colab Notebooks\", no seu Google Drive pessoal. Use a cópia para criar novas células de código ou executar as células desta prática.\n",
        "\n",
        "**Orientações ao instrutor:** dada a quantidade de material, sugere-se introduzir a prática e incentivar que os alunos a sigam ou repitam os procedimentos após a aula.\n",
        "\n",
        "---"
      ],
      "metadata": {
        "id": "5W1Zi6iF0lXV"
      }
    },
    {
      "cell_type": "markdown",
      "metadata": {
        "id": "aRfQfubxlto6"
      },
      "source": [
        "# **Arrays com Numpy**\n",
        "\n"
      ]
    },
    {
      "cell_type": "markdown",
      "source": [
        "## **Objetivo**\n",
        "\n",
        "Nesta aula, vamos conhecer Numpy, uma das mais importantes bibliotecas numéricas de Python, que nos ajuda a trabalhar com matrizes (tabelas) e dados multidimensionais.\n",
        "\n",
        "![image.png](data:image/png;base64,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)\n",
        "\n",
        "**Numpy** é a abreviação de \"Numerical Python\". É um dos pacotes mais importantes para processamento numérico em Python, sobre o qual outros pacotes científicos estão construídos.\n",
        "\n",
        "Oferece os seguintes recursos:\n",
        "\n",
        "- um poderoso objeto *array* multidimensional;\n",
        "- funções matemáticas sofisticadas e otimizadas para operações com *arrays*;\n",
        "- recursos de Álgebra Linear e geração de números aleatórios.\n",
        "\n",
        "No conceito e na forma, **arrays* Numpy e listas (recurso nativo do Python) são muito parecidos. A diferença, porém, reside no desempenho. *Arrays* Numpy são otimizados para ter um desempenho superior, o que explica sua adoção. Numpy é vastamente utilizado em análise e ciência de dados.\n",
        "\n",
        "Documentação: https://numpy.org/doc/stable/"
      ],
      "metadata": {
        "id": "2HimZPhX9ddI"
      }
    },
    {
      "cell_type": "markdown",
      "source": [
        "## **Prática**\n",
        "\n",
        "A partir daqui, vamos ver como usamos Numpy na Ciência de Dados."
      ],
      "metadata": {
        "id": "BR557UQc-EGa"
      }
    },
    {
      "cell_type": "markdown",
      "metadata": {
        "id": "b8prsQjmltme"
      },
      "source": [
        "### **Importação do pacote**\n",
        "\n",
        "Importando o pacote:"
      ]
    },
    {
      "cell_type": "code",
      "metadata": {
        "id": "lP0tqXHLltmf"
      },
      "source": [
        "import numpy"
      ],
      "execution_count": null,
      "outputs": []
    },
    {
      "cell_type": "markdown",
      "metadata": {
        "id": "ESliJKAaQMRY"
      },
      "source": [
        "Como gerar um **array** como uma lista nativa de Python e com Numpy:"
      ]
    },
    {
      "cell_type": "code",
      "source": [
        "list(range(0,10))"
      ],
      "metadata": {
        "id": "i4b5OteXuk1n"
      },
      "execution_count": null,
      "outputs": []
    },
    {
      "cell_type": "code",
      "metadata": {
        "id": "Y40UP3K7ltmg"
      },
      "source": [
        "numpy.arange(10)"
      ],
      "execution_count": null,
      "outputs": []
    },
    {
      "cell_type": "markdown",
      "metadata": {
        "id": "84-53f4Lltmh"
      },
      "source": [
        "Importando o pacote com um \"apelido\", para facilitar a codificação:"
      ]
    },
    {
      "cell_type": "code",
      "metadata": {
        "id": "CzESWck7ltmi"
      },
      "source": [
        "import numpy as np"
      ],
      "execution_count": null,
      "outputs": []
    },
    {
      "cell_type": "code",
      "metadata": {
        "id": "RC7Dr5Viltmj"
      },
      "source": [
        "np.arange(10)"
      ],
      "execution_count": null,
      "outputs": []
    },
    {
      "cell_type": "markdown",
      "metadata": {
        "id": "WWawttSpltml"
      },
      "source": [
        "Importando partes do pacote:"
      ]
    },
    {
      "cell_type": "code",
      "metadata": {
        "id": "8kTeo3Ltltmo"
      },
      "source": [
        "from numpy import arange"
      ],
      "execution_count": null,
      "outputs": []
    },
    {
      "cell_type": "code",
      "metadata": {
        "id": "4LPnpiEwltmt"
      },
      "source": [
        "arange(10)"
      ],
      "execution_count": null,
      "outputs": []
    },
    {
      "cell_type": "markdown",
      "metadata": {
        "id": "VSmffnCklto6"
      },
      "source": [
        "### **Criando arrays**"
      ]
    },
    {
      "cell_type": "code",
      "metadata": {
        "id": "Wqpin_-Plto8"
      },
      "source": [
        "# Importando novamente para evitar conflitos com as importações anteriores\n",
        "import numpy as np"
      ],
      "execution_count": null,
      "outputs": []
    },
    {
      "cell_type": "markdown",
      "metadata": {
        "id": "ock4Ku-Ulto8"
      },
      "source": [
        "Criando *arrays* a partir de listas Python:"
      ]
    },
    {
      "cell_type": "code",
      "metadata": {
        "id": "82H-09CQlto9"
      },
      "source": [
        "lista = [1000, 2300, 4987, 1500]\n",
        "array = np.array(lista)"
      ],
      "execution_count": null,
      "outputs": []
    },
    {
      "cell_type": "code",
      "source": [
        "lista"
      ],
      "metadata": {
        "id": "ns0jOhOAv67w"
      },
      "execution_count": null,
      "outputs": []
    },
    {
      "cell_type": "code",
      "metadata": {
        "id": "8VYE3JSYlto9"
      },
      "source": [
        "array"
      ],
      "execution_count": null,
      "outputs": []
    },
    {
      "cell_type": "code",
      "metadata": {
        "id": "OBsa5Cfplto-"
      },
      "source": [
        "type(array)"
      ],
      "execution_count": null,
      "outputs": []
    },
    {
      "cell_type": "code",
      "metadata": {
        "id": "6yLpkJcAlto-"
      },
      "source": [
        "array.dtype"
      ],
      "execution_count": null,
      "outputs": []
    },
    {
      "cell_type": "markdown",
      "metadata": {
        "id": "_wnTg0wJltpB"
      },
      "source": [
        "#### **Arrays bidimensionais**\n",
        "\n",
        "Também conhecidos como matrizes:"
      ]
    },
    {
      "cell_type": "code",
      "metadata": {
        "id": "Gt1dL27GltpB",
        "scrolled": true
      },
      "source": [
        "dados = [\n",
        "          ['a', 'Travas elétricas', 'Piloto automático', 'Bancos de couro', 'Ar condicionado', 'Sensor de estacionamento', 'Sensor crepuscular', 'Sensor de chuva'],\n",
        "          ['Central multimídia', 'Teto panorâmico', 'Freios ABS', '4 X 4', 'Painel digital', 'Piloto automático', 'Bancos de couro', 'Câmera de estacionamento'],\n",
        "          ['Piloto automático', 'Controle de estabilidade', 'Sensor crepuscular', 'Freios ABS', 'Câmbio automático', 'Bancos de couro', 'Central multimídia', 'Vidros elétricos']\n",
        "        ]\n",
        "dados"
      ],
      "execution_count": null,
      "outputs": []
    },
    {
      "cell_type": "code",
      "source": [
        "len(dados)"
      ],
      "metadata": {
        "id": "HNKi-o72wNJf"
      },
      "execution_count": null,
      "outputs": []
    },
    {
      "cell_type": "code",
      "metadata": {
        "id": "IlbYeZPkltpC"
      },
      "source": [
        "acessorios = np.array(dados)"
      ],
      "execution_count": null,
      "outputs": []
    },
    {
      "cell_type": "code",
      "metadata": {
        "id": "FgjmWozgltpD",
        "scrolled": true
      },
      "source": [
        "acessorios"
      ],
      "execution_count": null,
      "outputs": []
    },
    {
      "cell_type": "code",
      "metadata": {
        "id": "bBmnzpF5ltpE"
      },
      "source": [
        "acessorios.shape"
      ],
      "execution_count": null,
      "outputs": []
    },
    {
      "cell_type": "markdown",
      "metadata": {
        "id": "cPbkST9pltpE"
      },
      "source": [
        "#### **Comparando desempenho com listas**"
      ]
    },
    {
      "cell_type": "code",
      "metadata": {
        "id": "tTPC-G4vltpE"
      },
      "source": [
        "np_array = np.arange(1000000)\n",
        "np_array"
      ],
      "execution_count": null,
      "outputs": []
    },
    {
      "cell_type": "code",
      "metadata": {
        "id": "PIC-ndg9ltpF"
      },
      "source": [
        "py_list = list(range(1000000))\n",
        "py_list"
      ],
      "execution_count": null,
      "outputs": []
    },
    {
      "cell_type": "code",
      "metadata": {
        "id": "vXy57nk2ltpF"
      },
      "source": [
        "%time for _ in range(100): np_array *= 2"
      ],
      "execution_count": null,
      "outputs": []
    },
    {
      "cell_type": "code",
      "metadata": {
        "id": "I94lVgCRltpG"
      },
      "source": [
        "%time for _ in range(100): py_list = [x * 2 for x in py_list]"
      ],
      "execution_count": null,
      "outputs": []
    },
    {
      "cell_type": "markdown",
      "metadata": {
        "id": "ul4MuKyTltpG"
      },
      "source": [
        "### **Operações aritméticas com arrays**\n",
        "\n",
        "Primeiro, tentando fazer operações com listas nativas de Python. Vejamos o que ocorre:"
      ]
    },
    {
      "cell_type": "code",
      "metadata": {
        "id": "63KVHPK0ltpH"
      },
      "source": [
        "km = [44410, 5712, 37123, 0, 25757]\n",
        "anos = [2003, 1991, 1990, 2022, 2006]"
      ],
      "execution_count": null,
      "outputs": []
    },
    {
      "cell_type": "code",
      "source": [
        "km + anos"
      ],
      "metadata": {
        "id": "aobJy3UfFK9Y"
      },
      "execution_count": null,
      "outputs": []
    },
    {
      "cell_type": "code",
      "source": [
        "km - anos"
      ],
      "metadata": {
        "id": "BbQFr9mpFQn5"
      },
      "execution_count": null,
      "outputs": []
    },
    {
      "cell_type": "code",
      "source": [
        "km * anos"
      ],
      "metadata": {
        "id": "z_f3XQntFNfd"
      },
      "execution_count": null,
      "outputs": []
    },
    {
      "cell_type": "code",
      "source": [
        "km / anos"
      ],
      "metadata": {
        "id": "jjIG9t5jFT7B"
      },
      "execution_count": null,
      "outputs": []
    },
    {
      "cell_type": "code",
      "source": [
        "km * 4"
      ],
      "metadata": {
        "id": "lG3rOraiFWDX"
      },
      "execution_count": null,
      "outputs": []
    },
    {
      "cell_type": "markdown",
      "source": [
        "A partir daqui, vamos ver como Numpy nos ajuda com essas mesmas operações:"
      ],
      "metadata": {
        "id": "sTxL9ZhGERpl"
      }
    },
    {
      "cell_type": "code",
      "metadata": {
        "id": "s8GvEk4HltpI"
      },
      "source": [
        "km = np.array( [44410, 5712, 37123, 0, 25757])\n",
        "anos = np.array([2003, 1991, 1990, 2022, 2006])"
      ],
      "execution_count": null,
      "outputs": []
    },
    {
      "cell_type": "code",
      "source": [
        "km + anos"
      ],
      "metadata": {
        "id": "fH1XSwYIFrG1"
      },
      "execution_count": null,
      "outputs": []
    },
    {
      "cell_type": "code",
      "source": [
        "km - anos"
      ],
      "metadata": {
        "id": "TfIo4D6zFq6x"
      },
      "execution_count": null,
      "outputs": []
    },
    {
      "cell_type": "code",
      "source": [
        "km / anos"
      ],
      "metadata": {
        "id": "E2_hs77aFvZ3"
      },
      "execution_count": null,
      "outputs": []
    },
    {
      "cell_type": "code",
      "source": [
        "km * anos"
      ],
      "metadata": {
        "id": "HwH5awUaFq0z"
      },
      "execution_count": null,
      "outputs": []
    },
    {
      "cell_type": "code",
      "source": [
        "km + km"
      ],
      "metadata": {
        "id": "174z6yZYFqil"
      },
      "execution_count": null,
      "outputs": []
    },
    {
      "cell_type": "code",
      "source": [
        "np.concatenate((km, km, km, km, [2]))"
      ],
      "metadata": {
        "id": "-jYnLNXqGSYm"
      },
      "execution_count": null,
      "outputs": []
    },
    {
      "cell_type": "code",
      "source": [
        "np.append(km, [4, 5, 6, 7])"
      ],
      "metadata": {
        "id": "wXmN4LK7Gyc1"
      },
      "execution_count": null,
      "outputs": []
    },
    {
      "cell_type": "code",
      "source": [
        "x = ['Leila', 'Paulo', 'Gustavo', 'Tiemi']\n",
        "y = [1100, 900, 1250, 650]"
      ],
      "metadata": {
        "id": "4j50N3SByn9j"
      },
      "execution_count": null,
      "outputs": []
    },
    {
      "cell_type": "code",
      "source": [
        " np.array(list(zip(x, y)))"
      ],
      "metadata": {
        "id": "Nyf6jdIRypf7"
      },
      "execution_count": null,
      "outputs": []
    },
    {
      "cell_type": "code",
      "source": [
        "x = [350, 500, 800, 900, 1000]\n",
        "y = [1100, 900, 1250, 650, 1200]\n",
        "\n",
        "arr_2d = np.array(list(zip(x, y)))\n",
        "arr_2d"
      ],
      "metadata": {
        "id": "tMeebRPMGe-3"
      },
      "execution_count": null,
      "outputs": []
    },
    {
      "cell_type": "code",
      "source": [
        "np.delete(arr_2d, 0)"
      ],
      "metadata": {
        "id": "0IKUdvTxHHmM"
      },
      "execution_count": null,
      "outputs": []
    },
    {
      "cell_type": "code",
      "source": [
        "np.delete(arr_2d, 0, 1)"
      ],
      "metadata": {
        "id": "gtiKHe75HcEe"
      },
      "execution_count": null,
      "outputs": []
    },
    {
      "cell_type": "markdown",
      "source": [
        "Diferenças para listas:"
      ],
      "metadata": {
        "id": "jRMPfTjYqQ0b"
      }
    },
    {
      "cell_type": "code",
      "source": [
        "km * 2"
      ],
      "metadata": {
        "id": "upB-cGkmqTZQ"
      },
      "execution_count": null,
      "outputs": []
    },
    {
      "cell_type": "code",
      "source": [
        "km2 = [44410., 5712., 37123., 0., 25757.]"
      ],
      "metadata": {
        "id": "lL2maxl-qW8B"
      },
      "execution_count": null,
      "outputs": []
    },
    {
      "cell_type": "code",
      "source": [
        "km2 * 2\n"
      ],
      "metadata": {
        "id": "rkIMiD2DqaTF"
      },
      "execution_count": null,
      "outputs": []
    },
    {
      "cell_type": "markdown",
      "metadata": {
        "id": "qn1PUsM9ltpJ"
      },
      "source": [
        "### **Operações entre arrays**"
      ]
    },
    {
      "cell_type": "code",
      "metadata": {
        "id": "gU_d5aZkltpJ"
      },
      "source": [
        "km_media = km / idade"
      ],
      "execution_count": null,
      "outputs": []
    },
    {
      "cell_type": "code",
      "metadata": {
        "id": "c0JFxj3GWbPc"
      },
      "source": [
        "km_media"
      ],
      "execution_count": null,
      "outputs": []
    },
    {
      "cell_type": "code",
      "metadata": {
        "id": "U9DXntUEltpK"
      },
      "source": [
        "44410 / (2019 - 2003)"
      ],
      "execution_count": null,
      "outputs": []
    },
    {
      "cell_type": "code",
      "metadata": {
        "id": "n0rPxgY1ltpL"
      },
      "source": [
        "5712 / (2019 - 1991)"
      ],
      "execution_count": null,
      "outputs": []
    },
    {
      "cell_type": "markdown",
      "metadata": {
        "id": "o4-gsGICltpN"
      },
      "source": [
        "### **Operações com arrays de duas dimensões**"
      ]
    },
    {
      "cell_type": "code",
      "metadata": {
        "id": "VT71Pbb3ltpN"
      },
      "source": [
        "dados = np.array([km, anos])"
      ],
      "execution_count": null,
      "outputs": []
    },
    {
      "cell_type": "code",
      "metadata": {
        "id": "bgDe00q8ltpO"
      },
      "source": [
        "dados"
      ],
      "execution_count": null,
      "outputs": []
    },
    {
      "cell_type": "code",
      "metadata": {
        "id": "jIQU2ugKltpP"
      },
      "source": [
        "dados.shape"
      ],
      "execution_count": null,
      "outputs": []
    },
    {
      "cell_type": "markdown",
      "metadata": {
        "id": "dsgz-E5ZltpP"
      },
      "source": [
        "![1410-img01.png](https://caelum-online-public.s3.amazonaws.com/1410-pythondatascience/01/1410-img01.png)"
      ]
    },
    {
      "cell_type": "code",
      "metadata": {
        "id": "imANn6HultpQ"
      },
      "source": [
        "dados[0]"
      ],
      "execution_count": null,
      "outputs": []
    },
    {
      "cell_type": "code",
      "metadata": {
        "id": "Nkp9ljkvltpQ"
      },
      "source": [
        "dados[1]"
      ],
      "execution_count": null,
      "outputs": []
    },
    {
      "cell_type": "code",
      "metadata": {
        "id": "njJ2z3HJltpR"
      },
      "source": [
        "km_media = dados[0] / (2019 - dados[1])"
      ],
      "execution_count": null,
      "outputs": []
    },
    {
      "cell_type": "code",
      "metadata": {
        "id": "ryS0CQnqXzUl"
      },
      "source": [
        "km_media"
      ],
      "execution_count": null,
      "outputs": []
    },
    {
      "cell_type": "markdown",
      "metadata": {
        "id": "4CAwtS0-ltpR"
      },
      "source": [
        "### **Seleções de elementos de arrays**"
      ]
    },
    {
      "cell_type": "markdown",
      "metadata": {
        "id": "QDAT1vODltpS"
      },
      "source": [
        "![1410-img01.png](https://caelum-online-public.s3.amazonaws.com/1410-pythondatascience/01/1410-img01.png)"
      ]
    },
    {
      "cell_type": "code",
      "metadata": {
        "id": "nZpPGS2TltpS"
      },
      "source": [
        "dados[0]"
      ],
      "execution_count": null,
      "outputs": []
    },
    {
      "cell_type": "markdown",
      "metadata": {
        "id": "b--BIPcOltpT"
      },
      "source": [
        "![1410-img02.png](https://caelum-online-public.s3.amazonaws.com/1410-pythondatascience/01/1410-img02.png)"
      ]
    },
    {
      "cell_type": "markdown",
      "metadata": {
        "id": "86-hOHa7ltpT"
      },
      "source": [
        "### Indexação de elementos\n",
        "\n",
        "A indexação tem origem no índice zero e não no índice um. Isto é, o primeiro elemento de um arrays sempre tem o índice zero; o segundo tem índice um e assim por diante, até o elemento imediatamente anterior ao índice informado."
      ]
    },
    {
      "cell_type": "code",
      "metadata": {
        "id": "mr0Q_X0JltpT"
      },
      "source": [
        "contador = np.arange(10)\n",
        "contador"
      ],
      "execution_count": null,
      "outputs": []
    },
    {
      "cell_type": "code",
      "metadata": {
        "id": "VxiR_IgdltpU"
      },
      "source": [
        "contador[0]"
      ],
      "execution_count": null,
      "outputs": []
    },
    {
      "cell_type": "code",
      "metadata": {
        "id": "xGDomIyAltpU"
      },
      "source": [
        "item = 6\n",
        "index = item - 1\n",
        "contador[index]"
      ],
      "execution_count": null,
      "outputs": []
    },
    {
      "cell_type": "code",
      "metadata": {
        "id": "QEO5Za5PltpV"
      },
      "source": [
        "contador[-1]"
      ],
      "execution_count": null,
      "outputs": []
    },
    {
      "cell_type": "code",
      "metadata": {
        "id": "rvkeMK8KltpV"
      },
      "source": [
        "dados[0]"
      ],
      "execution_count": null,
      "outputs": []
    },
    {
      "cell_type": "code",
      "metadata": {
        "id": "X8c-lJRJltpW"
      },
      "source": [
        "dados[1]"
      ],
      "execution_count": null,
      "outputs": []
    },
    {
      "cell_type": "markdown",
      "metadata": {
        "id": "fCWUSI1zltpZ"
      },
      "source": [
        "**Dica:** *ndarray[ linha ][ coluna ]* ou *ndarray[ linha, coluna ]*"
      ]
    },
    {
      "cell_type": "code",
      "metadata": {
        "id": "Nxc3uY-ZltpZ"
      },
      "source": [
        "dados[1][2]"
      ],
      "execution_count": null,
      "outputs": []
    },
    {
      "cell_type": "code",
      "metadata": {
        "id": "xp8ByjualtpZ"
      },
      "source": [
        "dados[1, 2]"
      ],
      "execution_count": null,
      "outputs": []
    },
    {
      "cell_type": "markdown",
      "metadata": {
        "id": "7osmTUC4ltpa"
      },
      "source": [
        "### **Fatiamentos (slicing) de arrays**\n",
        "\n",
        "A sintaxe para realizar fatiamento em um *array* Numpy é $i : j : k$ onde $i$ é o índice inicial, $j$ é o índice de parada, e $k$ é o indicador de passo ($k\\neq0$)\n",
        "\n",
        "**Observação:** o item com índice $i$ é incluído e o item com índice $j$ não é incluído no resultado."
      ]
    },
    {
      "cell_type": "markdown",
      "metadata": {
        "id": "HEx4TbNlltpa"
      },
      "source": [
        "![1410-img01.png](https://caelum-online-public.s3.amazonaws.com/1410-pythondatascience/01/1410-img01.png)"
      ]
    },
    {
      "cell_type": "code",
      "metadata": {
        "id": "tlaD1SENltpb"
      },
      "source": [
        "contador = np.arange(10)\n",
        "contador"
      ],
      "execution_count": null,
      "outputs": []
    },
    {
      "cell_type": "code",
      "metadata": {
        "id": "vXLIO1cVltpc"
      },
      "source": [
        "contador[1:4]"
      ],
      "execution_count": null,
      "outputs": []
    },
    {
      "cell_type": "code",
      "metadata": {
        "id": "kYLgsQcHltpc"
      },
      "source": [
        "contador[1:8:2]"
      ],
      "execution_count": null,
      "outputs": []
    },
    {
      "cell_type": "code",
      "metadata": {
        "id": "H2MJpIasltpd"
      },
      "source": [
        "contador[::2]"
      ],
      "execution_count": null,
      "outputs": []
    },
    {
      "cell_type": "code",
      "metadata": {
        "id": "YVzf4fNCltpe"
      },
      "source": [
        "contador[1::2]"
      ],
      "execution_count": null,
      "outputs": []
    },
    {
      "cell_type": "code",
      "metadata": {
        "id": "bPyQsUFPltpf"
      },
      "source": [
        "dados"
      ],
      "execution_count": null,
      "outputs": []
    },
    {
      "cell_type": "code",
      "metadata": {
        "id": "IRxfixG-ltpg"
      },
      "source": [
        "dados[:, 1:3]"
      ],
      "execution_count": null,
      "outputs": []
    },
    {
      "cell_type": "code",
      "metadata": {
        "id": "wfoJ84haltph"
      },
      "source": [
        "dados[:, 1:3][0] / (2019 - dados[:, 1:3][1])"
      ],
      "execution_count": null,
      "outputs": []
    },
    {
      "cell_type": "code",
      "metadata": {
        "id": "UeejSXUAltph"
      },
      "source": [
        "dados[0] / (2019 - dados[1])"
      ],
      "execution_count": null,
      "outputs": []
    },
    {
      "cell_type": "markdown",
      "metadata": {
        "id": "-fW4EXIqltpi"
      },
      "source": [
        "### **Indexação com array booleano**\n",
        "\n",
        "Seleciona um grupo de linhas e colunas segundo os rótulos ou um array booleano:"
      ]
    },
    {
      "cell_type": "code",
      "metadata": {
        "id": "MgmH-rCSltpi"
      },
      "source": [
        "contador = np.arange(10)\n",
        "contador"
      ],
      "execution_count": null,
      "outputs": []
    },
    {
      "cell_type": "code",
      "metadata": {
        "id": "HN1i-BlLltpj"
      },
      "source": [
        "contador > 5"
      ],
      "execution_count": null,
      "outputs": []
    },
    {
      "cell_type": "code",
      "metadata": {
        "id": "iXJa9tL4ltpj"
      },
      "source": [
        "contador[contador > 5]"
      ],
      "execution_count": null,
      "outputs": []
    },
    {
      "cell_type": "code",
      "metadata": {
        "id": "54gH6X5eltpk"
      },
      "source": [
        "contador[[False, False, False, False, False, False,  True,  True,  True, True]]"
      ],
      "execution_count": null,
      "outputs": []
    },
    {
      "cell_type": "code",
      "metadata": {
        "id": "F3z6zMELltpk"
      },
      "source": [
        "dados"
      ],
      "execution_count": null,
      "outputs": []
    },
    {
      "cell_type": "code",
      "metadata": {
        "id": "pk8A68z1ltpl"
      },
      "source": [
        "dados[1] > 2000"
      ],
      "execution_count": null,
      "outputs": []
    },
    {
      "cell_type": "code",
      "metadata": {
        "id": "WUVMN29_ltpm"
      },
      "source": [
        "dados[:, dados[1] > 2000]"
      ],
      "execution_count": null,
      "outputs": []
    },
    {
      "cell_type": "markdown",
      "metadata": {
        "id": "Acw1DffHltpn"
      },
      "source": [
        "### **Atributos de arrays**\n",
        "\n",
        "Documentação em: https://numpy.org/doc/1.16/reference/arrays.ndarray.html#array-attributes"
      ]
    },
    {
      "cell_type": "code",
      "metadata": {
        "id": "kEoY55E4ooAx"
      },
      "source": [
        "dados = np.array([[44410., 5712., 37123., 0., 25757.],\n",
        "                  [2003, 1991, 1990, 2019, 2006]])\n",
        "dados"
      ],
      "execution_count": null,
      "outputs": []
    },
    {
      "cell_type": "markdown",
      "metadata": {
        "id": "uKqPxg2Zltpo"
      },
      "source": [
        "#### ***ndarray.shape***\n",
        "\n",
        "Retorna uma tupla com as dimensões do array:"
      ]
    },
    {
      "cell_type": "code",
      "metadata": {
        "id": "gmaZhF04ltpp"
      },
      "source": [
        "dados.shape"
      ],
      "execution_count": null,
      "outputs": []
    },
    {
      "cell_type": "markdown",
      "metadata": {
        "id": "XaY6oXkmltpp"
      },
      "source": [
        "#### ***ndarray.ndim***\n",
        "\n",
        "Retorna o número de dimensões do array:"
      ]
    },
    {
      "cell_type": "code",
      "metadata": {
        "id": "inJ4HDjaltpq"
      },
      "source": [
        "dados.ndim"
      ],
      "execution_count": null,
      "outputs": []
    },
    {
      "cell_type": "markdown",
      "metadata": {
        "id": "ESgVt5xOltpq"
      },
      "source": [
        "#### ***ndarray.size***\n",
        "\n",
        "Retorna o número de elementos do array:"
      ]
    },
    {
      "cell_type": "code",
      "metadata": {
        "id": "BWr4efoiltpq"
      },
      "source": [
        "dados.size"
      ],
      "execution_count": null,
      "outputs": []
    },
    {
      "cell_type": "markdown",
      "metadata": {
        "id": "Ox8JlBM3ltpr"
      },
      "source": [
        "#### ***ndarray.dtype***\n",
        "\n",
        "Retorna o tipo de dados dos elementos do array:"
      ]
    },
    {
      "cell_type": "code",
      "metadata": {
        "id": "npiL84Vfltpu"
      },
      "source": [
        "dados.dtype"
      ],
      "execution_count": null,
      "outputs": []
    },
    {
      "cell_type": "markdown",
      "metadata": {
        "id": "j7uPN16oltpv"
      },
      "source": [
        "#### ***ndarray.T***\n",
        "\n",
        "Retorna o array transposto, isto é, converte linhas em colunas e vice-e-versa:"
      ]
    },
    {
      "cell_type": "code",
      "metadata": {
        "id": "bLjrrx56ltpv"
      },
      "source": [
        "dados.T"
      ],
      "execution_count": null,
      "outputs": []
    },
    {
      "cell_type": "code",
      "metadata": {
        "id": "5A9SlJQvltpw"
      },
      "source": [
        "dados.transpose()"
      ],
      "execution_count": null,
      "outputs": []
    },
    {
      "cell_type": "markdown",
      "metadata": {
        "id": "e9r6ryTrltpw"
      },
      "source": [
        "### **Métodos de arrays**\n",
        "\n",
        "Documentação em: https://numpy.org/doc/1.16/reference/arrays.ndarray.html#array-methods"
      ]
    },
    {
      "cell_type": "markdown",
      "metadata": {
        "id": "SR9KYy-0ltpw"
      },
      "source": [
        "#### ***ndarray.tolist()***\n",
        "\n",
        "Retorna o array como uma lista Python:"
      ]
    },
    {
      "cell_type": "code",
      "metadata": {
        "id": "C2aTAwOXltpw"
      },
      "source": [
        "dados.tolist()"
      ],
      "execution_count": null,
      "outputs": []
    },
    {
      "cell_type": "markdown",
      "metadata": {
        "id": "bHxcxugPltpx"
      },
      "source": [
        "#### ***ndarray.reshape(shape[, order])***\n",
        "\n",
        "Retorna um array que contém os mesmos dados com uma nova forma."
      ]
    },
    {
      "cell_type": "code",
      "metadata": {
        "id": "lwESxO71ltpx"
      },
      "source": [
        "contador = np.arange(10)\n",
        "contador"
      ],
      "execution_count": null,
      "outputs": []
    },
    {
      "cell_type": "code",
      "metadata": {
        "id": "sh9poyfzltpy"
      },
      "source": [
        "contador.reshape((5, 2))"
      ],
      "execution_count": null,
      "outputs": []
    },
    {
      "cell_type": "code",
      "metadata": {
        "id": "5332Xu8-ltpy"
      },
      "source": [
        "contador.reshape((5, 2), order='C')"
      ],
      "execution_count": null,
      "outputs": []
    },
    {
      "cell_type": "code",
      "metadata": {
        "id": "2RoZvbgHltpz"
      },
      "source": [
        "contador.reshape((5, 2), order='F')"
      ],
      "execution_count": null,
      "outputs": []
    },
    {
      "cell_type": "code",
      "metadata": {
        "id": "6q0dJZ-dltp0"
      },
      "source": [
        "km = [44410, 5712, 37123, 0, 25757]\n",
        "anos = [2003, 1991, 1990, 2019, 2006]"
      ],
      "execution_count": null,
      "outputs": []
    },
    {
      "cell_type": "code",
      "metadata": {
        "id": "bs56aGrkltp0"
      },
      "source": [
        "info_carros = km + anos\n",
        "info_carros"
      ],
      "execution_count": null,
      "outputs": []
    },
    {
      "cell_type": "code",
      "metadata": {
        "id": "s_GkTk2fltp1"
      },
      "source": [
        "np.array(info_carros).reshape((2, 5))"
      ],
      "execution_count": null,
      "outputs": []
    },
    {
      "cell_type": "code",
      "source": [
        "np.array(info_carros).reshape((5, 2))"
      ],
      "metadata": {
        "id": "3EdX8Raocn7c"
      },
      "execution_count": null,
      "outputs": []
    },
    {
      "cell_type": "code",
      "metadata": {
        "id": "xodm8DVZltp1"
      },
      "source": [
        "np.array(info_carros).reshape((5, 2), order='F')"
      ],
      "execution_count": null,
      "outputs": []
    },
    {
      "cell_type": "code",
      "source": [
        "np.array(info_carros).reshape((5, 2), order='C')"
      ],
      "metadata": {
        "id": "4klTNs5Kccdt"
      },
      "execution_count": null,
      "outputs": []
    },
    {
      "cell_type": "code",
      "source": [
        "dados_new[1]"
      ],
      "metadata": {
        "id": "I6dYWNnidgae"
      },
      "execution_count": null,
      "outputs": []
    },
    {
      "cell_type": "code",
      "metadata": {
        "id": "CJyuKqaFltp3"
      },
      "source": [
        "dados_new[2] = dados_new[0] / (2019 - dados_new[1])"
      ],
      "execution_count": null,
      "outputs": []
    },
    {
      "cell_type": "code",
      "metadata": {
        "id": "bj_iPZAultp4"
      },
      "source": [
        "dados_new"
      ],
      "execution_count": null,
      "outputs": []
    },
    {
      "cell_type": "markdown",
      "source": [
        "### **Eixos**\n",
        "\n",
        "* 0 = coluna\n",
        "* 1 = linha"
      ],
      "metadata": {
        "id": "g4aA-5mbOjXr"
      }
    },
    {
      "cell_type": "code",
      "source": [
        "dados"
      ],
      "metadata": {
        "id": "5DHh0NkKOIPw"
      },
      "execution_count": null,
      "outputs": []
    },
    {
      "cell_type": "code",
      "source": [
        "np.sum(dados, axis = 1)"
      ],
      "metadata": {
        "id": "NPfRKJRlOIMx"
      },
      "execution_count": null,
      "outputs": []
    },
    {
      "cell_type": "code",
      "source": [
        "np.average(dados, axis = 0)"
      ],
      "metadata": {
        "id": "YbxggAGeOIJs"
      },
      "execution_count": null,
      "outputs": []
    },
    {
      "cell_type": "markdown",
      "metadata": {
        "id": "GPSk7Q_Dltp4"
      },
      "source": [
        "### **Estatísticas com arrays**\n",
        "\n",
        "Documentação:\n",
        "\n",
        "* https://numpy.org/doc/1.16/reference/arrays.ndarray.html#calculation\n",
        "* https://numpy.org/doc/1.16/reference/routines.statistics.html\n",
        "* https://numpy.org/doc/1.16/reference/routines.math.html"
      ]
    },
    {
      "cell_type": "code",
      "metadata": {
        "id": "RH2u1orXltp5"
      },
      "source": [
        "anos = np.loadtxt(fname = \"carros-anos.txt\", dtype = int)\n",
        "km = np.loadtxt(fname = \"carros-km.txt\")\n",
        "valor = np.loadtxt(fname = \"carros-valor.txt\")"
      ],
      "execution_count": null,
      "outputs": []
    },
    {
      "cell_type": "code",
      "metadata": {
        "id": "wbITF7r6ltp5"
      },
      "source": [
        "anos.shape"
      ],
      "execution_count": null,
      "outputs": []
    },
    {
      "cell_type": "code",
      "metadata": {
        "id": "wefxl-XBltp8"
      },
      "source": [
        "dataset = np.column_stack((anos, km, valor))\n",
        "dataset"
      ],
      "execution_count": null,
      "outputs": []
    },
    {
      "cell_type": "code",
      "metadata": {
        "id": "OzDTTmj8ltp_",
        "scrolled": true
      },
      "source": [
        "dataset.shape"
      ],
      "execution_count": null,
      "outputs": []
    },
    {
      "cell_type": "markdown",
      "metadata": {
        "id": "Me6yUU_RltqA"
      },
      "source": [
        "#### ***np.mean()***\n",
        "\n",
        "Retorna a média dos elementos do array ao longo do eixo especificado:"
      ]
    },
    {
      "cell_type": "code",
      "metadata": {
        "id": "MNEKcP38ltqA"
      },
      "source": [
        "np.mean(dataset, axis = 0)"
      ],
      "execution_count": null,
      "outputs": []
    },
    {
      "cell_type": "code",
      "metadata": {
        "id": "sekHQ84zltqB"
      },
      "source": [
        "np.mean(dataset, axis = 1)"
      ],
      "execution_count": null,
      "outputs": []
    },
    {
      "cell_type": "code",
      "metadata": {
        "id": "RpyETIVSltqC"
      },
      "source": [
        "np.mean(dataset[:, 1])"
      ],
      "execution_count": null,
      "outputs": []
    },
    {
      "cell_type": "code",
      "metadata": {
        "id": "_-kpcTI8ltqD",
        "scrolled": true
      },
      "source": [
        "np.mean(dataset[:, 2])"
      ],
      "execution_count": null,
      "outputs": []
    },
    {
      "cell_type": "markdown",
      "metadata": {
        "id": "71jViVBUltqE"
      },
      "source": [
        "#### ***np.std()***\n",
        "\n",
        "Retorna o desvio padrão dos elementos do array ao longo do eixo especificado:"
      ]
    },
    {
      "cell_type": "code",
      "metadata": {
        "id": "lEwUbPx2ltqE",
        "scrolled": true
      },
      "source": [
        "np.std(dataset[:, 2])"
      ],
      "execution_count": null,
      "outputs": []
    },
    {
      "cell_type": "markdown",
      "metadata": {
        "id": "JTUH-vAeltqG"
      },
      "source": [
        "#### ***ndarray.sum()***\n",
        "\n",
        "Retorna a soma dos elementos do array ao longo do eixo especificado:"
      ]
    },
    {
      "cell_type": "code",
      "metadata": {
        "id": "jIi3yoaWltqG"
      },
      "source": [
        "dataset.sum(axis = 0)"
      ],
      "execution_count": null,
      "outputs": []
    },
    {
      "cell_type": "code",
      "metadata": {
        "id": "X3QYbdYLltqH"
      },
      "source": [
        "dataset[:, 1].sum()"
      ],
      "execution_count": null,
      "outputs": []
    },
    {
      "cell_type": "markdown",
      "metadata": {
        "id": "WbBD5ixaltqH"
      },
      "source": [
        "#### ***np.sum()***\n",
        "\n",
        "Retorna a soma dos elementos do array ao longo do eixo especificado."
      ]
    },
    {
      "cell_type": "code",
      "metadata": {
        "id": "omB6kgWgltqH"
      },
      "source": [
        "np.sum(dataset, axis = 0)"
      ],
      "execution_count": null,
      "outputs": []
    },
    {
      "cell_type": "code",
      "metadata": {
        "id": "LiD4G3kQltqI"
      },
      "source": [
        "np.sum(dataset[:, 2])"
      ],
      "execution_count": null,
      "outputs": []
    },
    {
      "cell_type": "markdown",
      "source": [
        "### **Exemplo com Matriz 3 x 3**"
      ],
      "metadata": {
        "id": "nMk4iCoKPJ9b"
      }
    },
    {
      "cell_type": "code",
      "source": [
        "x = np.array([[1, 1, 1], [2, 2, 2],[3, 3, 3]])\n",
        "x"
      ],
      "metadata": {
        "id": "bQ00OMTt27Gr"
      },
      "execution_count": null,
      "outputs": []
    },
    {
      "cell_type": "code",
      "source": [
        "z = x.sum(axis = 0)\n",
        "print('z = ', z)"
      ],
      "metadata": {
        "id": "Rw84ysKo2_WT"
      },
      "execution_count": null,
      "outputs": []
    },
    {
      "cell_type": "code",
      "source": [
        "# Soma das Linhas e Colunas de uma matriz 3x3\n",
        "x = np.array([[1, 1, 1], [2, 2, 2],[3, 3, 3]])\n",
        "\n",
        "# Soma da colunas\n",
        "z = x.sum(axis = 0)\n",
        "print('z = ', z)\n",
        "#(Resultado) >>> array([6, 6, 6])\n",
        "\n",
        "#Soma das linhas\n",
        "z = x.sum(axis = 1)\n",
        "print('z = ', z)\n",
        "#(Resultado) >>> array([3, 6, 9])\n"
      ],
      "metadata": {
        "id": "cJzEGVEHO1C9"
      },
      "execution_count": null,
      "outputs": []
    },
    {
      "cell_type": "code",
      "source": [
        "# Or matrix\n",
        "np.random.shuffle(dados)"
      ],
      "metadata": {
        "id": "f8KMBZOQOID5"
      },
      "execution_count": null,
      "outputs": []
    },
    {
      "cell_type": "code",
      "source": [
        "# Create an array with 0 elements\n",
        "np.zeros((3,3))"
      ],
      "metadata": {
        "id": "IdeoMqLBNofB"
      },
      "execution_count": null,
      "outputs": []
    },
    {
      "cell_type": "code",
      "source": [
        "np.ones((3,3))"
      ],
      "metadata": {
        "id": "-hcK9cbjNpgP"
      },
      "execution_count": null,
      "outputs": []
    },
    {
      "cell_type": "code",
      "source": [
        "np.full((3,3), 10)"
      ],
      "metadata": {
        "id": "AkgPgpLANsW2"
      },
      "execution_count": null,
      "outputs": []
    },
    {
      "cell_type": "code",
      "source": [
        "# Create a diagonal matrix with diagonal elements specified in the array x\n",
        "x = [1,2,3]\n",
        "np.diag(x)"
      ],
      "metadata": {
        "id": "xMGHyCrTNy0C"
      },
      "execution_count": null,
      "outputs": []
    },
    {
      "cell_type": "markdown",
      "source": [
        "---\n",
        "\n",
        "Notebook utilizado para fins educacionais da **Awari**.\n",
        "\n",
        "**© AWARI. Todos os direitos reservados.**"
      ],
      "metadata": {
        "id": "Bk0Hjw58H-C1"
      }
    }
  ]
}