{
  "nbformat": 4,
  "nbformat_minor": 0,
  "metadata": {
    "colab": {
      "provenance": [],
      "collapsed_sections": [
        "VuPZj7dXUfYI",
        "0QNS7PLaVSQ-",
        "3F1RAlLZU9rT",
        "b-bzJkyOTND8",
        "2incPK5ZTQRZ",
        "VYVIKd1-D1BG",
        "1poO2I1mbpPW"
      ],
      "toc_visible": true,
      "include_colab_link": true
    },
    "kernelspec": {
      "name": "python3",
      "display_name": "Python 3"
    },
    "language_info": {
      "name": "python"
    }
  },
  "cells": [
    {
      "cell_type": "markdown",
      "metadata": {
        "id": "view-in-github",
        "colab_type": "text"
      },
      "source": [
        "<a href=\"https://colab.research.google.com/github/VsolutionVicente/Awari/blob/main/%5BAWARI_DS_04_03%5D_Pr%C3%A1tica_Manipula%C3%A7%C3%A3o_com_Pandas.ipynb\" target=\"_parent\"><img src=\"https://colab.research.google.com/assets/colab-badge.svg\" alt=\"Open In Colab\"/></a>"
      ]
    },
    {
      "cell_type": "markdown",
      "source": [
        "![header-notebooks.png](data:image/png;base64,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)\n",
        "\n",
        "Prática da **Aula 04: Linguagem Python II**, do curso de **Data Science** da **[Awari](https://awari.com.br/)**. Para utilizá-la, vá no menu \"Arquivo\" e, em seguida, na opção \"Salvar uma cópia no Drive\". Isto criará uma cópia deste notebook em uma pasta chamada \"Colab Notebooks\", no seu Google Drive pessoal. Use a cópia para criar novas células de código ou executar as células desta prática.\n",
        "\n",
        "---"
      ],
      "metadata": {
        "id": "Jh3chxi9dm_u"
      }
    },
    {
      "cell_type": "markdown",
      "source": [
        "# **Manipulação com Pandas**"
      ],
      "metadata": {
        "id": "4vFyGvXPdsHv"
      }
    },
    {
      "cell_type": "markdown",
      "source": [
        "## **Objetivo**\n",
        "\n",
        "Nesta prática, vamos aprender a criar **DataFrames** (algo parecido com \"tabelas\" de dados) e a manipular dados com uma das principais e mais utilidas bibliotecas de Data Science, chamada **Pandas**.\n",
        "\n",
        "![image.png](data:image/png;base64,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)\n",
        "\n",
        "O nome é derivado do termo inglês *panel data* (dados em painel), um termo usado em Estatística e Econometria para conjuntos de dados que incluem várias unidades amostrais (indivíduos, empresas etc.), acompanhadas ao longo do tempo.\n",
        "\n",
        "Características de Pandas:\n",
        "- Uso do objeto \"DataFrame\" para manipulação de dados, com indexação integrada.\n",
        "- Ferramentas para ler e escrever dados entre diferentes estruturas de dados e formatos de arquivo.\n",
        "- Alinhamento de dados e manipulação de dados ausentes.\n",
        "- Reformatação e pivoteamento de matrizes (dados).\n",
        "- Divisão (slicing), fancy indexing, e subsettingde grandes conjuntos de dados.\n",
        "- Inserir e deletar colunas em conjuntos de dados.\n",
        "- Ferramentas para fundir(merging) ou juntar(join) conjuntos de dados.\n",
        "- Funcionalide para séries temporais (time series): Geração de intervalo de datas(date range) e conversão de frequência, estatística móvel, regressão linear, entre outras.\n",
        "- Filtragem e limpeza de dados.\n",
        "\n",
        "Documentação: https://pandas.pydata.org/"
      ],
      "metadata": {
        "id": "s_yLQEMKWAFt"
      }
    },
    {
      "cell_type": "markdown",
      "source": [
        "## **Prática**\n",
        "\n",
        "Sem perder tempo, vamos ver mais de perto como Pandas funciona."
      ],
      "metadata": {
        "id": "fiXL3vvPWL29"
      }
    },
    {
      "cell_type": "markdown",
      "source": [
        "### **Importando as bibliotecas**\n",
        "\n",
        "Importaremos Pandas e Numpy. As duas costumam aparecer muito juntas, já que se complementam em suas funcionalidades."
      ],
      "metadata": {
        "id": "KGhCeJboMuGT"
      }
    },
    {
      "cell_type": "code",
      "source": [
        "import pandas as pd\n",
        "import numpy as np"
      ],
      "metadata": {
        "id": "82aJuoyXMs1O"
      },
      "execution_count": null,
      "outputs": []
    },
    {
      "cell_type": "markdown",
      "source": [
        "### **Series**\n",
        "\n",
        "Pense em uma *Serie* como uma lista."
      ],
      "metadata": {
        "id": "gMCvdI_SMggJ"
      }
    },
    {
      "cell_type": "markdown",
      "source": [
        " #### **Criando a partir de uma lista**"
      ],
      "metadata": {
        "id": "kRtY_T98MlXO"
      }
    },
    {
      "cell_type": "code",
      "source": [
        "data = [4, 7, -5, 3, 5]\n",
        "index = ['d', 'b', 'a', 'c', 'e']\n",
        "\n",
        "s = pd.Series(data, index=index)\n",
        "s"
      ],
      "metadata": {
        "id": "qlXrYXHuM5cA"
      },
      "execution_count": null,
      "outputs": []
    },
    {
      "cell_type": "code",
      "source": [
        "type(s)"
      ],
      "metadata": {
        "id": "7GeSM_vFS1AD"
      },
      "execution_count": null,
      "outputs": []
    },
    {
      "cell_type": "code",
      "source": [
        "pd.Series(data)"
      ],
      "metadata": {
        "id": "G6-c9eDJS3mR"
      },
      "execution_count": null,
      "outputs": []
    },
    {
      "cell_type": "markdown",
      "source": [
        " #### **Criando a partir de um Numpy array**"
      ],
      "metadata": {
        "id": "HYOcT7NHMolG"
      }
    },
    {
      "cell_type": "code",
      "source": [
        "data = np.random.randn(5)\n",
        "index = [\"a\", \"b\", \"c\", \"d\", \"e\"]\n",
        "\n",
        "s = pd.Series(data, index=index)\n",
        "s"
      ],
      "metadata": {
        "id": "-ukz7t0cNHZC"
      },
      "execution_count": null,
      "outputs": []
    },
    {
      "cell_type": "markdown",
      "source": [
        " #### **Criando a partir de um dicionário**\n",
        "\n"
      ],
      "metadata": {
        "id": "eqV62dNxMo-o"
      }
    },
    {
      "cell_type": "code",
      "source": [
        "data = {\"a\": 0.0, \"b\": 1.0, \"c\": 2.0}\n",
        "\n",
        "s = pd.Series(data)\n",
        "s"
      ],
      "metadata": {
        "id": "T8JUtc2PL4MH"
      },
      "execution_count": null,
      "outputs": []
    },
    {
      "cell_type": "markdown",
      "source": [
        "#### **Criando a partir de um dicionário com índice especificado**"
      ],
      "metadata": {
        "id": "VuPZj7dXUfYI"
      }
    },
    {
      "cell_type": "code",
      "source": [
        "data = {'a': 1, 'b': 2, 'c': 3}\n",
        "s = pd.Series(data, index=['a', 'b', 'c'])\n",
        "s"
      ],
      "metadata": {
        "id": "wLciMPtNMDtZ"
      },
      "execution_count": null,
      "outputs": []
    },
    {
      "cell_type": "markdown",
      "source": [
        "As chaves do dicionário correspondem aos valores do Índice, portanto, os valores do Índice não têm efeito.\n"
      ],
      "metadata": {
        "id": "yJChzKX3NVQW"
      }
    },
    {
      "cell_type": "markdown",
      "source": [
        "#### **Criando a partir de um dicionário com índice modificado (valores iguais às chaves)**\n"
      ],
      "metadata": {
        "id": "0QNS7PLaVSQ-"
      }
    },
    {
      "cell_type": "code",
      "source": [
        "data = {'a': 1, 'b': 2, 'c': 3}\n",
        "\n",
        "s = pd.Series(data, index=['c', 'a', 'b'])\n",
        "s"
      ],
      "metadata": {
        "id": "-_68JchoVRtd"
      },
      "execution_count": null,
      "outputs": []
    },
    {
      "cell_type": "markdown",
      "source": [
        "O indice é construido com as chaves do dicionário depois reindexado com os valores do índice fornecido."
      ],
      "metadata": {
        "id": "poXrov_iVm-e"
      }
    },
    {
      "cell_type": "markdown",
      "source": [
        "#### **Criando a partir de um dicionário com índice modificado (valores diferentes das chaves)**"
      ],
      "metadata": {
        "id": "3F1RAlLZU9rT"
      }
    },
    {
      "cell_type": "code",
      "source": [
        "data = {'a': 1, 'b': 2, 'c': 3}\n",
        "\n",
        "s = pd.Series(data, index=['x', 'y', 'z'])\n",
        "s"
      ],
      "metadata": {
        "id": "v8ZtGtETUyPt"
      },
      "execution_count": null,
      "outputs": []
    },
    {
      "cell_type": "markdown",
      "source": [
        "Observe que o índice é construído primeiro com as chaves do dicionário. Depois disso, a série é reindexada com os valores de índice fornecidos, portanto, obtemos todos os NaN como resultado."
      ],
      "metadata": {
        "id": "7R7jzvysVKgE"
      }
    },
    {
      "cell_type": "markdown",
      "source": [
        "### **DataFrames**\n",
        "\n",
        "- *DataFrame* é uma estrutura de dados rotulada bidimensional.\n",
        "- Possui colunas de tipos potencialmente diferentes.\n",
        "- Você pode pensar nisso como uma planilha ou tabela SQL, ou um dicionário de objetos Series.\n",
        "- Geralmente é o objeto de pandas mais comumente usado.\n",
        "- Permite arranjo da coleção de dados e cálculos estatísticos"
      ],
      "metadata": {
        "id": "itghuUWXQWyV"
      }
    },
    {
      "cell_type": "markdown",
      "source": [
        "#### **Criando a partir de um dicionário**"
      ],
      "metadata": {
        "id": "b-bzJkyOTND8"
      }
    },
    {
      "cell_type": "code",
      "source": [
        "d = {\"one\": [1.0, 2.0, 3.0, 4.0], \"two\": [4.0, 3.0, 2.0, 1.0]}\n",
        "\n",
        "pd.DataFrame(d)"
      ],
      "metadata": {
        "id": "T0b-tscnQZjk"
      },
      "execution_count": null,
      "outputs": []
    },
    {
      "cell_type": "markdown",
      "source": [
        "#### **Criando a partir de um dicionário (modificando o índice)**"
      ],
      "metadata": {
        "id": "2incPK5ZTQRZ"
      }
    },
    {
      "cell_type": "code",
      "source": [
        "d = {\"one\": [1.0, 2.0, 3.0, 4.0], \"two\": [4.0, 3.0, 2.0, 1.0]}\n",
        "\n",
        "pd.DataFrame(d, index=[\"a\", \"b\", \"c\", \"d\"])"
      ],
      "metadata": {
        "id": "vSx5LwUNQpL3"
      },
      "execution_count": null,
      "outputs": []
    },
    {
      "cell_type": "markdown",
      "metadata": {
        "id": "VYVIKd1-D1BG"
      },
      "source": [
        "#### **Criando a partir de uma lista de dicionários**"
      ]
    },
    {
      "cell_type": "code",
      "metadata": {
        "id": "QFNS9PckD1BG"
      },
      "source": [
        "dados = [\n",
        "    {'Nome': 'Jetta Variant', 'Motor': 'Motor 4.0 Turbo', 'Ano': 2003, 'Quilometragem': 44410.0, 'Zero_km': False, 'Valor': 88078.64},\n",
        "    {'Nome': 'Passat', 'Motor': 'Motor Diesel', 'Ano': 1991, 'Quilometragem': 5712.0, 'Zero_km': False, 'Valor': 106161.94},\n",
        "    {'Nome': 'Crossfox', 'Motor': 'Motor Diesel V8', 'Ano': 1990, 'Quilometragem': 37123.0, 'Zero_km': False, 'Valor': 72832.16},\n",
        "]"
      ],
      "execution_count": null,
      "outputs": []
    },
    {
      "cell_type": "code",
      "metadata": {
        "id": "WDQb9AnKD1BH"
      },
      "source": [
        "pd.DataFrame(dados)"
      ],
      "execution_count": null,
      "outputs": []
    },
    {
      "cell_type": "markdown",
      "source": [
        "#### **Lendo e exportando bases_de_dados**"
      ],
      "metadata": {
        "id": "1poO2I1mbpPW"
      }
    },
    {
      "cell_type": "markdown",
      "source": [
        "Lendo arquivos CSV:"
      ],
      "metadata": {
        "id": "P8Bm29tvb6dN"
      }
    },
    {
      "cell_type": "code",
      "source": [
        "df = pd.read_csv('nomes.csv')\n",
        "df"
      ],
      "metadata": {
        "id": "__OHboVfhcQn"
      },
      "execution_count": null,
      "outputs": []
    },
    {
      "cell_type": "markdown",
      "source": [
        "Exportando DataFrames para CSV:"
      ],
      "metadata": {
        "id": "byuawBFnhMDE"
      }
    },
    {
      "cell_type": "code",
      "source": [
        "df.to_csv('exportando.csv')"
      ],
      "metadata": {
        "id": "42ftnAi5kewg"
      },
      "execution_count": null,
      "outputs": []
    },
    {
      "cell_type": "markdown",
      "source": [
        "Lendo arquivos JSON:"
      ],
      "metadata": {
        "id": "Ir0owKZab6dO"
      }
    },
    {
      "cell_type": "code",
      "source": [
        "df = pd.read_json('nomes.json')\n",
        "df"
      ],
      "metadata": {
        "id": "hf4Gtl5GpvWL"
      },
      "execution_count": null,
      "outputs": []
    },
    {
      "cell_type": "markdown",
      "source": [
        "Exportando DataFrames para JSON:"
      ],
      "metadata": {
        "id": "zTQfA2dEppr6"
      }
    },
    {
      "cell_type": "code",
      "source": [
        "df.to_html('exportando.html')"
      ],
      "metadata": {
        "id": "_bkmNvMHb6dO"
      },
      "execution_count": null,
      "outputs": []
    },
    {
      "cell_type": "markdown",
      "source": [
        "Lendo arquivos HTML:"
      ],
      "metadata": {
        "id": "JLmM-GektUFJ"
      }
    },
    {
      "cell_type": "code",
      "source": [
        "df = pd.read_html('nomes.html')\n",
        "df[0]"
      ],
      "metadata": {
        "id": "KNhExUkxtUFK"
      },
      "execution_count": null,
      "outputs": []
    },
    {
      "cell_type": "markdown",
      "source": [
        "Exportando DataFrames para HTML:\n"
      ],
      "metadata": {
        "id": "MWr-sV9stUFK"
      }
    },
    {
      "cell_type": "code",
      "source": [
        "df.to_html('exportando.html')"
      ],
      "metadata": {
        "id": "z2kG8VbVtUFK"
      },
      "execution_count": null,
      "outputs": []
    },
    {
      "cell_type": "markdown",
      "source": [
        "Lendo arquivos EXCEL"
      ],
      "metadata": {
        "id": "AFTmaSTa0mXW"
      }
    },
    {
      "cell_type": "code",
      "source": [
        "df = pd.read_excel('nomes.xlsx')\n",
        "df"
      ],
      "metadata": {
        "id": "zr6zuHO30i5A"
      },
      "execution_count": null,
      "outputs": []
    },
    {
      "cell_type": "markdown",
      "source": [
        "Exportando DataFrames para EXCEL:"
      ],
      "metadata": {
        "id": "CzciYHDWtOdH"
      }
    },
    {
      "cell_type": "code",
      "source": [
        "df.to_excel('exportando.xlsx')"
      ],
      "metadata": {
        "id": "tIDIaLostOdI"
      },
      "execution_count": null,
      "outputs": []
    },
    {
      "cell_type": "markdown",
      "source": [
        "Lendo arquivos CSV direto do Github via url:"
      ],
      "metadata": {
        "id": "nHtiYSm8AknG"
      }
    },
    {
      "cell_type": "code",
      "source": [
        "dados = 'https://raw.githubusercontent.com/pandas-dev/pandas/main/doc/data/titanic.csv'\n",
        "\n",
        "df = pd.read_csv(dados)\n",
        "df"
      ],
      "metadata": {
        "id": "p5BlKRMh00t-"
      },
      "execution_count": null,
      "outputs": []
    },
    {
      "cell_type": "markdown",
      "source": [
        "### **Analisando um dataset com Pandas**\n",
        "\n",
        "Vamos analisar o conjunto de dados do Titanic, que importamos acima."
      ],
      "metadata": {
        "id": "XW_Xkj9zQ6f8"
      }
    },
    {
      "cell_type": "code",
      "source": [
        "# Quantidade total de linhas\n",
        "df.count()"
      ],
      "metadata": {
        "id": "FatYeaRbRDS5"
      },
      "execution_count": null,
      "outputs": []
    },
    {
      "cell_type": "code",
      "source": [
        "# Formato do dataframe: indica a quantidade de linhas e colunas\n",
        "df.shape"
      ],
      "metadata": {
        "id": "9w9YGEGdRKMH"
      },
      "execution_count": null,
      "outputs": []
    },
    {
      "cell_type": "code",
      "source": [
        "# Visualizando as primeiras 10 linhas\n",
        "df.head(10)"
      ],
      "metadata": {
        "id": "Vha7sFZBYSOA"
      },
      "execution_count": null,
      "outputs": []
    },
    {
      "cell_type": "code",
      "source": [
        "# Visualizando as últimas 10 linhas\n",
        "df.tail(10)"
      ],
      "metadata": {
        "id": "LA-HJQ-GYl-j"
      },
      "execution_count": null,
      "outputs": []
    },
    {
      "cell_type": "code",
      "source": [
        "# Obtendo informações sobre as colunas do dataset\n",
        "df.info()"
      ],
      "metadata": {
        "id": "Bn5OKVLBYzRU"
      },
      "execution_count": null,
      "outputs": []
    },
    {
      "cell_type": "code",
      "source": [
        "# Efetuando contagens de linhas\n",
        "df.count()"
      ],
      "metadata": {
        "id": "M1eG-q9SZEyI"
      },
      "execution_count": null,
      "outputs": []
    },
    {
      "cell_type": "code",
      "source": [
        "# Obtendo estatísticas das colunas (somente para colunas numéricas)\n",
        "df.describe()"
      ],
      "metadata": {
        "id": "EMqSauwGZKb2"
      },
      "execution_count": null,
      "outputs": []
    },
    {
      "cell_type": "code",
      "source": [
        "# Deletando uma coluna do dataset\n",
        "df.drop(columns = [\"Cabin\"], inplace = True)"
      ],
      "metadata": {
        "id": "hfiKO_BrZexp"
      },
      "execution_count": null,
      "outputs": []
    },
    {
      "cell_type": "code",
      "source": [
        "# Verificando que a coluna foi deletada\n",
        "df.head(5)"
      ],
      "metadata": {
        "id": "2vmUBKMWZuKi"
      },
      "execution_count": null,
      "outputs": []
    },
    {
      "cell_type": "code",
      "source": [
        "# Sorteando os dados do dataframe\n",
        "df.sort_values(\"Name\") #sorteando a coluna nome em ordem alfabética"
      ],
      "metadata": {
        "id": "-Lz9Z_aUZ5zT"
      },
      "execution_count": null,
      "outputs": []
    },
    {
      "cell_type": "code",
      "source": [
        "# Renomeando uma coluna\n",
        "df.rename(columns = {\"Age\":\"Idade\"}, inplace = True)"
      ],
      "metadata": {
        "id": "ivNcxI2HaMWR"
      },
      "execution_count": null,
      "outputs": []
    },
    {
      "cell_type": "code",
      "source": [
        "df.head(5)"
      ],
      "metadata": {
        "id": "FUdllMCeaU2R"
      },
      "execution_count": null,
      "outputs": []
    },
    {
      "cell_type": "code",
      "source": [
        "# Filtrando dados do dataframe\n",
        "df[df.Parch > 0]"
      ],
      "metadata": {
        "id": "KEDyn-X7abgj"
      },
      "execution_count": null,
      "outputs": []
    },
    {
      "cell_type": "markdown",
      "source": [
        "### **Continue aprendendo**\n",
        "\n",
        "Caso tenha tempo, tente acompanhar:\n",
        "\n",
        "- os [tutorais da documentação do Pandas](https://pandas.pydata.org/docs/getting_started/intro_tutorials/index.html).\n",
        "- o [mini-curso do Kaggle sobre Pandas](https://www.kaggle.com/learn/pandas).\n"
      ],
      "metadata": {
        "id": "lW_VeAwmbFD0"
      }
    },
    {
      "cell_type": "markdown",
      "source": [
        "---\n",
        "\n",
        "Notebook utilizado para fins educacionais da **Awari**.\n",
        "\n",
        "**© AWARI. Todos os direitos reservados.**"
      ],
      "metadata": {
        "id": "h2NlHENmg7aD"
      }
    }
  ]
}