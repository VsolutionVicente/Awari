{
 "cells": [
  {
   "cell_type": "markdown",
   "id": "85d9bfad-2d2a-495d-9217-064c4eb8596a",
   "metadata": {},
   "source": [
    "# 1 - Criar Algoritmo que liste toda a sequência de Fibonacci até o número 100"
   ]
  },
  {
   "cell_type": "markdown",
   "id": "ec98fb2c-a87a-44d5-bfcc-8bc7b32752db",
   "metadata": {},
   "source": [
    "def seqFibonacci(num:int):\n",
    "    numFinal = num\n",
    "    a=0\n",
    "    b=1\n",
    "    fibonacci=[0,1]\n",
    "    for i in range(numFinal)\n",
    "        num = a + b\n",
    "        a = b\n",
    "        b = num\n",
    "        if(num <= numFinal):\n",
    "            fibonacci.append(num)\n",
    "        else:\n",
    "            PASS\n",
    "    print(fibonacci)"
   ]
  },
  {
   "cell_type": "code",
   "execution_count": 16,
   "id": "4c3fc17a-3222-420c-a34b-41ff46cb743f",
   "metadata": {
    "tags": []
   },
   "outputs": [],
   "source": [
    "#def cria uma função\n",
    "def seqfibonacci(numFinal:int):\n",
    "    # criamos uma variavel definindo o limite\n",
    "    fibonacci=[0]\n",
    "    \n",
    "    for i in range(numFinal):\n",
    "        if (fibonacci[i] ==0):\n",
    "            fibonacci.append(1)\n",
    "        else:\n",
    "            if((fibonacci[i] + fibonacci[i-1])  <= numFinal):\n",
    "                fibonacci.append((fibonacci[i] + fibonacci[i-1]))\n",
    "            else:\n",
    "                break\n",
    "    print(fibonacci)\n",
    "        "
   ]
  },
  {
   "cell_type": "code",
   "execution_count": 17,
   "id": "fa6971f1-640c-4d59-a05f-f7a700de484a",
   "metadata": {
    "tags": []
   },
   "outputs": [
    {
     "name": "stdout",
     "output_type": "stream",
     "text": [
      "[0, 1, 1, 2, 3, 5, 8, 13, 21, 34, 55, 89]\n"
     ]
    }
   ],
   "source": [
    "seqfibonacci(100)"
   ]
  },
  {
   "cell_type": "markdown",
   "id": "fbb6c818-16fe-430b-87a8-fbae57688290",
   "metadata": {
    "tags": []
   },
   "source": [
    "# 2 - Calcular o fatorial de um numero"
   ]
  },
  {
   "cell_type": "code",
   "execution_count": 21,
   "id": "112eebf2-9d32-4a2d-a298-f26daf730b9e",
   "metadata": {
    "tags": []
   },
   "outputs": [
    {
     "name": "stdin",
     "output_type": "stream",
     "text": [
      "Digite um número inteiro:  10\n"
     ]
    },
    {
     "name": "stdout",
     "output_type": "stream",
     "text": [
      "O fatorial de 6 é 3628800\n"
     ]
    }
   ],
   "source": [
    "Final = int(input(\"Digite um número inteiro: \"))\n",
    "resultado = 1\n",
    "count = 1\n",
    "\n",
    "while count <= Final:\n",
    "    resultado *= count\n",
    "    count += 1\n",
    "\n",
    "print(f\"O fatorial de {numero} é {resultado}\")\n"
   ]
  },
  {
   "cell_type": "code",
   "execution_count": 22,
   "id": "dfa75e2d-254e-4dee-9966-9d4e35e44bb8",
   "metadata": {
    "tags": []
   },
   "outputs": [],
   "source": [
    "def fatorial(num):\n",
    "    if num in [0,1]:\n",
    "        return 1\n",
    "    return num * fatorial(num-1)"
   ]
  },
  {
   "cell_type": "code",
   "execution_count": 23,
   "id": "1188f699-1421-4ab3-ae16-b142c780d78c",
   "metadata": {
    "tags": []
   },
   "outputs": [
    {
     "data": {
      "text/plain": [
       "720"
      ]
     },
     "execution_count": 23,
     "metadata": {},
     "output_type": "execute_result"
    }
   ],
   "source": [
    "fatorial(6)"
   ]
  },
  {
   "cell_type": "code",
   "execution_count": 24,
   "id": "47a3f8fa-9617-444a-9f64-3103040bfe94",
   "metadata": {
    "tags": []
   },
   "outputs": [
    {
     "data": {
      "text/plain": [
       "3628800"
      ]
     },
     "execution_count": 24,
     "metadata": {},
     "output_type": "execute_result"
    }
   ],
   "source": [
    "fatorial(10)"
   ]
  },
  {
   "cell_type": "markdown",
   "id": "7535a8ba-60e0-42fb-aa05-6ee86d8fd89d",
   "metadata": {},
   "source": [
    "# 3 - Criar uma lista de frutas e fazer um algoritmo para consultar se uma fruta existe na lista. Caso não exista, adicionar a nova fruta. O programa só deve encerrar a brincadeira quando o usuário informar o número 999."
   ]
  },
  {
   "cell_type": "code",
   "execution_count": 28,
   "id": "9b4eeb5a-00eb-487b-81a8-2d32f52a7d9c",
   "metadata": {
    "tags": []
   },
   "outputs": [
    {
     "name": "stdin",
     "output_type": "stream",
     "text": [
      "Digite uma fruta (ou 999 para encerrar):  uva\n"
     ]
    },
    {
     "name": "stdout",
     "output_type": "stream",
     "text": [
      "uva foi adicionada à lista!\n",
      "['bananas', 'maçãs', 'peras', 'uvas', 'laranjas', 'uva']\n"
     ]
    },
    {
     "name": "stdin",
     "output_type": "stream",
     "text": [
      "Digite uma fruta (ou 999 para encerrar):  uva\n"
     ]
    },
    {
     "name": "stdout",
     "output_type": "stream",
     "text": [
      "uva já está na lista!\n"
     ]
    },
    {
     "name": "stdin",
     "output_type": "stream",
     "text": [
      "Digite uma fruta (ou 999 para encerrar):  abacates\n"
     ]
    },
    {
     "name": "stdout",
     "output_type": "stream",
     "text": [
      "abacates foi adicionada à lista!\n",
      "['bananas', 'maçãs', 'peras', 'uvas', 'laranjas', 'uva', 'abacates']\n"
     ]
    },
    {
     "name": "stdin",
     "output_type": "stream",
     "text": [
      "Digite uma fruta (ou 999 para encerrar):  morangos\n"
     ]
    },
    {
     "name": "stdout",
     "output_type": "stream",
     "text": [
      "morangos foi adicionada à lista!\n",
      "['bananas', 'maçãs', 'peras', 'uvas', 'laranjas', 'uva', 'abacates', 'morangos']\n"
     ]
    },
    {
     "name": "stdin",
     "output_type": "stream",
     "text": [
      "Digite uma fruta (ou 999 para encerrar):  999\n"
     ]
    },
    {
     "name": "stdout",
     "output_type": "stream",
     "text": [
      "Encerrando o programa. Obrigado por brincar!\n",
      "Lista de frutas atualizada:\n",
      "bananas\n",
      "maçãs\n",
      "peras\n",
      "uvas\n",
      "laranjas\n",
      "uva\n",
      "abacates\n",
      "morangos\n"
     ]
    }
   ],
   "source": [
    "# Criação da lista de frutas inicial\n",
    "frutas = [\"bananas\", \"maçãs\", \"peras\", \"uvas\", \"laranjas\"]\n",
    "\n",
    "# Loop para consultar e adicionar frutas\n",
    "while True:\n",
    "    # Solicita ao usuário uma fruta ou o número 999 para encerrar\n",
    "    entrada = input(\"Digite uma fruta (ou 999 para encerrar): \")\n",
    "\n",
    "    # Verifica se o usuário digitou 999 para encerrar\n",
    "    if entrada == \"999\":\n",
    "        print(\"Encerrando o programa. Obrigado por brincar!\")\n",
    "        break\n",
    "\n",
    "    # Verifica se a fruta já está na lista\n",
    "    elif entrada in frutas:\n",
    "        print(f\"{entrada} já está na lista!\")\n",
    "\n",
    "    # Se a fruta não está na lista, adiciona\n",
    "    else:\n",
    "        frutas.append(entrada)\n",
    "        print(f\"{entrada} foi adicionada à lista!\")\n",
    "        print(frutas)\n",
    "        \n",
    "# Exibe a lista final de frutas\n",
    "print(\"Lista de frutas atualizada:\")\n",
    "for fruta in frutas:\n",
    "    print(fruta)\n"
   ]
  },
  {
   "cell_type": "code",
   "execution_count": null,
   "id": "e0799cb6-41e8-40a4-a0d3-e50ca80db0c0",
   "metadata": {},
   "outputs": [],
   "source": []
  }
 ],
 "metadata": {
  "kernelspec": {
   "display_name": "Python 3 (ipykernel)",
   "language": "python",
   "name": "python3"
  },
  "language_info": {
   "codemirror_mode": {
    "name": "ipython",
    "version": 3
   },
   "file_extension": ".py",
   "mimetype": "text/x-python",
   "name": "python",
   "nbconvert_exporter": "python",
   "pygments_lexer": "ipython3",
   "version": "3.10.9"
  }
 },
 "nbformat": 4,
 "nbformat_minor": 5
}
